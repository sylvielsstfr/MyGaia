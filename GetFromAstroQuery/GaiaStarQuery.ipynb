{
 "cells": [
  {
   "cell_type": "markdown",
   "metadata": {},
   "source": [
    "# Gaia Star Query"
   ]
  },
  {
   "cell_type": "markdown",
   "metadata": {},
   "source": [
    "https://astroquery.readthedocs.io/en/latest/gaia/gaia.html"
   ]
  },
  {
   "cell_type": "code",
   "execution_count": 1,
   "metadata": {},
   "outputs": [],
   "source": [
    "# import matplotlib to show plots inline.\n",
    "%matplotlib inline\n",
    "import matplotlib.pyplot as plt\n",
    "import numpy as np\n",
    "import pandas as pd"
   ]
  },
  {
   "cell_type": "code",
   "execution_count": 26,
   "metadata": {},
   "outputs": [],
   "source": [
    "plt.rcParams[\"figure.figsize\"] = (16,4)\n",
    "plt.rcParams[\"axes.labelsize\"] = 'xx-large'\n",
    "plt.rcParams['axes.titlesize'] = 'xx-large'\n",
    "plt.rcParams['xtick.labelsize']= 'xx-large'\n",
    "plt.rcParams['ytick.labelsize']= 'xx-large'"
   ]
  },
  {
   "cell_type": "code",
   "execution_count": 2,
   "metadata": {},
   "outputs": [],
   "source": [
    "import astroquery\n",
    "from astropy.coordinates import SkyCoord\n",
    "from astropy.coordinates import Angle\n",
    "import astropy.units as u"
   ]
  },
  {
   "cell_type": "code",
   "execution_count": 3,
   "metadata": {},
   "outputs": [
    {
     "name": "stdout",
     "output_type": "stream",
     "text": [
      "Created TAP+ (v1.2.1) - Connection:\n",
      "\tHost: gea.esac.esa.int\n",
      "\tUse HTTPS: True\n",
      "\tPort: 443\n",
      "\tSSL Port: 443\n",
      "Created TAP+ (v1.2.1) - Connection:\n",
      "\tHost: geadata.esac.esa.int\n",
      "\tUse HTTPS: True\n",
      "\tPort: 443\n",
      "\tSSL Port: 443\n"
     ]
    }
   ],
   "source": [
    "from astroquery.simbad import Simbad\n",
    "from astroquery.gaia import Gaia"
   ]
  },
  {
   "cell_type": "code",
   "execution_count": 4,
   "metadata": {},
   "outputs": [],
   "source": [
    "gindex=0"
   ]
  },
  {
   "cell_type": "code",
   "execution_count": 5,
   "metadata": {},
   "outputs": [],
   "source": [
    "Galaxy_Name=[\"lmc\",\"smc\"]"
   ]
  },
  {
   "cell_type": "code",
   "execution_count": 6,
   "metadata": {},
   "outputs": [],
   "source": [
    "Galaxy_Delta_RA=[10.75,5.33]\n",
    "Galaxy_Delta_DEC=[9.17,3.083]"
   ]
  },
  {
   "cell_type": "code",
   "execution_count": 7,
   "metadata": {},
   "outputs": [],
   "source": [
    "GName=Galaxy_Name[gindex]\n",
    "galaxy_delta_ra=Galaxy_Delta_RA[gindex]\n",
    "galaxy_delta_dec=Galaxy_Delta_DEC[gindex]"
   ]
  },
  {
   "cell_type": "code",
   "execution_count": 8,
   "metadata": {},
   "outputs": [
    {
     "name": "stdout",
     "output_type": "stream",
     "text": [
      "MAIN_ID      RA        DEC    ... COO_QUAL COO_WAVELENGTH     COO_BIBCODE    \n",
      "          \"h:m:s\"    \"d:m:s\"  ...                                            \n",
      "-------- ---------- --------- ... -------- -------------- -------------------\n",
      "NAME LMC 05 23 34.6 -69 45 22 ...        D              O 2003A&A...412...45P\n"
     ]
    }
   ],
   "source": [
    "result_table = Simbad.query_object(GName)\n",
    "result_table.pprint(show_unit=True)"
   ]
  },
  {
   "cell_type": "code",
   "execution_count": 9,
   "metadata": {},
   "outputs": [
    {
     "data": {
      "text/latex": [
       "$5^\\mathrm{h}23^\\mathrm{m}34.6^\\mathrm{s}$"
      ],
      "text/plain": [
       "<Angle 5.39294444 hourangle>"
      ]
     },
     "execution_count": 9,
     "metadata": {},
     "output_type": "execute_result"
    }
   ],
   "source": [
    "Angle(result_table[\"RA\"][0]+\" hour\")"
   ]
  },
  {
   "cell_type": "code",
   "execution_count": 10,
   "metadata": {},
   "outputs": [
    {
     "data": {
      "text/latex": [
       "$-69^\\circ45{}^\\prime22{}^{\\prime\\prime}$"
      ],
      "text/plain": [
       "<Angle -69.75611111 deg>"
      ]
     },
     "execution_count": 10,
     "metadata": {},
     "output_type": "execute_result"
    }
   ],
   "source": [
    "Angle(result_table[\"DEC\"][0]+\" degrees\")"
   ]
  },
  {
   "cell_type": "code",
   "execution_count": 11,
   "metadata": {},
   "outputs": [
    {
     "data": {
      "text/plain": [
       "<SkyCoord (ICRS): (ra, dec) in deg\n",
       "    (80.89416667, -69.75611111)>"
      ]
     },
     "execution_count": 11,
     "metadata": {},
     "output_type": "execute_result"
    }
   ],
   "source": [
    "galaxy_coord=SkyCoord(ra=result_table[\"RA\"][0]+\"hour\",dec=result_table[\"DEC\"][0]+ \"degrees\")\n",
    "galaxy_coord"
   ]
  },
  {
   "cell_type": "code",
   "execution_count": 12,
   "metadata": {},
   "outputs": [],
   "source": [
    "galaxy_ra=galaxy_coord.ra.deg\n",
    "galaxy_dec=galaxy_coord.dec.deg"
   ]
  },
  {
   "cell_type": "code",
   "execution_count": 13,
   "metadata": {},
   "outputs": [
    {
     "name": "stdout",
     "output_type": "stream",
     "text": [
      "INFO: Query finished. [astroquery.utils.tap.core]\n",
      "         dist             solution_id     ... epoch_photometry_url\n",
      "                                          ...                     \n",
      "--------------------- ------------------- ... --------------------\n",
      "  0.00046837777838698 1635721458409799680 ...                     \n",
      " 0.000532991830259734 1635721458409799680 ...                     \n",
      " 0.000701920895774868 1635721458409799680 ...                     \n",
      "0.0007610013305639609 1635721458409799680 ...                     \n",
      "0.0010190008887011263 1635721458409799680 ...                     \n",
      " 0.001104738980956511 1635721458409799680 ...                     \n",
      "0.0011573615582263258 1635721458409799680 ...                     \n",
      "0.0011694630579769584 1635721458409799680 ...                     \n",
      "0.0011807404720021056 1635721458409799680 ...                     \n",
      "0.0012290093441252616 1635721458409799680 ...                     \n",
      "                  ...                 ... ...                  ...\n",
      "0.0036998533681891206 1635721458409799680 ...                     \n",
      " 0.003780028965648271 1635721458409799680 ...                     \n",
      "0.0038259782711082225 1635721458409799680 ...                     \n",
      " 0.004313021832845783 1635721458409799680 ...                     \n",
      " 0.004421145721362649 1635721458409799680 ...                     \n",
      "0.0044592028127244795 1635721458409799680 ...                     \n",
      " 0.004555868750565277 1635721458409799680 ...                     \n",
      " 0.004938595784277936 1635721458409799680 ...                     \n",
      "  0.00499173202955947 1635721458409799680 ...                     \n",
      " 0.005008319588548728 1635721458409799680 ...                     \n",
      "Length = 44 rows\n"
     ]
    }
   ],
   "source": [
    "Gaia.ROW_LIMIT = -1\n",
    "width = u.Quantity(0.01, u.deg)\n",
    "height = u.Quantity(0.01, u.deg)\n",
    "r = Gaia.query_object_async(coordinate=galaxy_coord, width=width, height=height)\n",
    "r.pprint()"
   ]
  },
  {
   "cell_type": "code",
   "execution_count": 18,
   "metadata": {},
   "outputs": [
    {
     "name": "stdout",
     "output_type": "stream",
     "text": [
      "['solution_id', 'designation', 'source_id', 'random_index', 'ref_epoch', 'ra', 'ra_error', 'dec', 'dec_error', 'parallax', 'parallax_error', 'parallax_over_error', 'pmra', 'pmra_error', 'pmdec', 'pmdec_error', 'ra_dec_corr', 'ra_parallax_corr', 'ra_pmra_corr', 'ra_pmdec_corr', 'dec_parallax_corr', 'dec_pmra_corr', 'dec_pmdec_corr', 'parallax_pmra_corr', 'parallax_pmdec_corr', 'pmra_pmdec_corr', 'astrometric_n_obs_al', 'astrometric_n_obs_ac', 'astrometric_n_good_obs_al', 'astrometric_n_bad_obs_al', 'astrometric_gof_al', 'astrometric_chi2_al', 'astrometric_excess_noise', 'astrometric_excess_noise_sig', 'astrometric_params_solved', 'astrometric_primary_flag', 'astrometric_weight_al', 'astrometric_pseudo_colour', 'astrometric_pseudo_colour_error', 'mean_varpi_factor_al', 'astrometric_matched_observations', 'visibility_periods_used', 'astrometric_sigma5d_max', 'frame_rotator_object_type', 'matched_observations', 'duplicated_source', 'phot_g_n_obs', 'phot_g_mean_flux', 'phot_g_mean_flux_error', 'phot_g_mean_flux_over_error', 'phot_g_mean_mag', 'phot_bp_n_obs', 'phot_bp_mean_flux', 'phot_bp_mean_flux_error', 'phot_bp_mean_flux_over_error', 'phot_bp_mean_mag', 'phot_rp_n_obs', 'phot_rp_mean_flux', 'phot_rp_mean_flux_error', 'phot_rp_mean_flux_over_error', 'phot_rp_mean_mag', 'phot_bp_rp_excess_factor', 'phot_proc_mode', 'bp_rp', 'bp_g', 'g_rp', 'radial_velocity', 'radial_velocity_error', 'rv_nb_transits', 'rv_template_teff', 'rv_template_logg', 'rv_template_fe_h', 'phot_variable_flag', 'l', 'b', 'ecl_lon', 'ecl_lat', 'priam_flags', 'teff_val', 'teff_percentile_lower', 'teff_percentile_upper', 'a_g_val', 'a_g_percentile_lower', 'a_g_percentile_upper', 'e_bp_min_rp_val', 'e_bp_min_rp_percentile_lower', 'e_bp_min_rp_percentile_upper', 'flame_flags', 'radius_val', 'radius_percentile_lower', 'radius_percentile_upper', 'lum_val', 'lum_percentile_lower', 'lum_percentile_upper', 'datalink_url', 'epoch_photometry_url', 'dist']\n"
     ]
    }
   ],
   "source": [
    "print(r.colnames)"
   ]
  },
  {
   "cell_type": "code",
   "execution_count": 30,
   "metadata": {},
   "outputs": [
    {
     "data": {
      "text/plain": [
       "Text(0.5, 0.98, 'Magnitude in Gaia')"
      ]
     },
     "execution_count": 30,
     "metadata": {},
     "output_type": "execute_result"
    },
    {
     "data": {
      "image/png": "[encoded data removed]",
      "text/plain": [
       "<Figure size 1440x288 with 3 Axes>"
      ]
     },
     "metadata": {
      "needs_background": "light"
     },
     "output_type": "display_data"
    }
   ],
   "source": [
    "fig=plt.figure(figsize=(20,4))\n",
    "ax1=fig.add_subplot(131)\n",
    "ax1.hist(r[\"phot_g_mean_mag\"],bins=50,facecolor=\"g\");\n",
    "ax1.set_xlabel(\"G\")\n",
    "ax2=fig.add_subplot(132)\n",
    "ax2.hist(r[\"phot_bp_mean_mag\"],bins=50,facecolor=\"b\");\n",
    "ax2.set_xlabel(\"BP\")\n",
    "ax3=fig.add_subplot(133)\n",
    "ax3.hist(r[\"phot_rp_mean_mag\"],bins=50,facecolor=\"r\");\n",
    "ax3.set_xlabel(\"RP\")\n",
    "plt.suptitle(\"Magnitude in Gaia\",fontsize=28)"
   ]
  },
  {
   "cell_type": "code",
   "execution_count": null,
   "metadata": {},
   "outputs": [],
   "source": [
    "j = Gaia.cone_search_async(coordinate=galaxy_coord, radius=0.5*u.deg)\n",
    "r = j.get_results()\n",
    "r.pprint()"
   ]
  },
  {
   "cell_type": "code",
   "execution_count": null,
   "metadata": {},
   "outputs": [],
   "source": [
    "fig=plt.figure(figsize=(20,4))\n",
    "ax1=fig.add_subplot(131)\n",
    "ax1.hist(r[\"phot_g_mean_mag\"],bins=50,facecolor=\"g\");\n",
    "ax1.set_xlabel(\"G\")\n",
    "ax2=fig.add_subplot(132)\n",
    "ax2.hist(r[\"phot_bp_mean_mag\"],bins=50,facecolor=\"b\");\n",
    "ax2.set_xlabel(\"BP\")\n",
    "ax3=fig.add_subplot(133)\n",
    "ax3.hist(r[\"phot_rp_mean_mag\"],bins=50,facecolor=\"r\");\n",
    "ax3.set_xlabel(\"RP\")\n",
    "plt.suptitle(\"Magnitude in Gaia\",fontsize=28)"
   ]
  },
  {
   "cell_type": "code",
   "execution_count": null,
   "metadata": {},
   "outputs": [],
   "source": []
  }
 ],
 "metadata": {
  "kernelspec": {
   "display_name": "Python 3",
   "language": "python",
   "name": "python3"
  },
  "language_info": {
   "codemirror_mode": {
    "name": "ipython",
    "version": 3
   },
   "file_extension": ".py",
   "mimetype": "text/x-python",
   "name": "python",
   "nbconvert_exporter": "python",
   "pygments_lexer": "ipython3",
   "version": "3.7.7"
  },
  "toc": {
   "base_numbering": 1,
   "nav_menu": {},
   "number_sections": true,
   "sideBar": true,
   "skip_h1_title": false,
   "title_cell": "Table of Contents",
   "title_sidebar": "Contents",
   "toc_cell": false,
   "toc_position": {},
   "toc_section_display": true,
   "toc_window_display": false
  }
 },
 "nbformat": 4,
 "nbformat_minor": 4
}
